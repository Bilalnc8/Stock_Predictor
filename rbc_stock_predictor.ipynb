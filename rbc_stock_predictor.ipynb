{
  "nbformat": 4,
  "nbformat_minor": 0,
  "metadata": {
    "colab": {
      "provenance": [],
      "toc_visible": true
    },
    "kernelspec": {
      "name": "python3",
      "display_name": "Python 3"
    },
    "language_info": {
      "name": "python"
    }
  },
  "cells": [
    {
      "cell_type": "code",
      "source": [
        "pip install backports-datetime-fromisoformat"
      ],
      "metadata": {
        "colab": {
          "base_uri": "https://localhost:8080/"
        },
        "id": "6FRV4ixm7p0C",
        "outputId": "7beef1f6-8a68-4023-cfac-935e8fc0ad1a"
      },
      "execution_count": null,
      "outputs": [
        {
          "output_type": "stream",
          "name": "stdout",
          "text": [
            "Looking in indexes: https://pypi.org/simple, https://us-python.pkg.dev/colab-wheels/public/simple/\n",
            "Requirement already satisfied: backports-datetime-fromisoformat in /usr/local/lib/python3.9/dist-packages (2.0.0)\n"
          ]
        }
      ]
    },
    {
      "cell_type": "code",
      "execution_count": null,
      "metadata": {
        "id": "VYfzyPcTqW3n"
      },
      "outputs": [],
      "source": [
        "import pandas as pd\n",
        "import numpy as np \n",
        "import matplotlib.pyplot as plt\n",
        "from imblearn.over_sampling import RandomOverSampler\n",
        "from sklearn.preprocessing import StandardScaler\n",
        "import copy\n",
        "import seaborn as sns\n",
        "import tensorflow as tf\n",
        "from sklearn.linear_model import LinearRegression\n",
        "import datetime as dt\n",
        "from datetime import date, datetime, time\n",
        "from sklearn.metrics import r2_score\n",
        "#from backports.datetime_fromisoformat import MonkeyPatch\n",
        "\n",
        "\n"
      ]
    },
    {
      "cell_type": "code",
      "source": [
        "dataset_cols = [\"Date\", \"Open\", \"High\", \"Low\", \"Close\", \"Volume\"]\n",
        "\n",
        "df = pd.read_csv(\"/content/sample_data/Download Data - STOCK_CA_XTSE_RY.csv\")"
      ],
      "metadata": {
        "id": "hB2GL5aMyCgY"
      },
      "execution_count": null,
      "outputs": []
    },
    {
      "cell_type": "code",
      "source": [
        "df.head().drop(\"Volume\", axis=1)"
      ],
      "metadata": {
        "colab": {
          "base_uri": "https://localhost:8080/",
          "height": 206
        },
        "id": "0KIqbw5Pzkeq",
        "outputId": "b747ffb1-dcb1-46a3-a9e6-d085f47df804"
      },
      "execution_count": null,
      "outputs": [
        {
          "output_type": "execute_result",
          "data": {
            "text/plain": [
              "         Date    Open    High     Low   Close\n",
              "0  03/10/2023  134.45  135.00  132.61  133.11\n",
              "1  03/09/2023  136.89  137.16  134.91  135.39\n",
              "2  03/08/2023  135.71  137.23  135.71  137.06\n",
              "3  03/07/2023  137.21  137.21  135.62  136.54\n",
              "4  03/06/2023  136.86  137.78  136.63  137.21"
            ],
            "text/html": [
              "\n",
              "  <div id=\"df-7351551c-cbb8-4bab-b96e-1d6beda5f01e\">\n",
              "    <div class=\"colab-df-container\">\n",
              "      <div>\n",
              "<style scoped>\n",
              "    .dataframe tbody tr th:only-of-type {\n",
              "        vertical-align: middle;\n",
              "    }\n",
              "\n",
              "    .dataframe tbody tr th {\n",
              "        vertical-align: top;\n",
              "    }\n",
              "\n",
              "    .dataframe thead th {\n",
              "        text-align: right;\n",
              "    }\n",
              "</style>\n",
              "<table border=\"1\" class=\"dataframe\">\n",
              "  <thead>\n",
              "    <tr style=\"text-align: right;\">\n",
              "      <th></th>\n",
              "      <th>Date</th>\n",
              "      <th>Open</th>\n",
              "      <th>High</th>\n",
              "      <th>Low</th>\n",
              "      <th>Close</th>\n",
              "    </tr>\n",
              "  </thead>\n",
              "  <tbody>\n",
              "    <tr>\n",
              "      <th>0</th>\n",
              "      <td>03/10/2023</td>\n",
              "      <td>134.45</td>\n",
              "      <td>135.00</td>\n",
              "      <td>132.61</td>\n",
              "      <td>133.11</td>\n",
              "    </tr>\n",
              "    <tr>\n",
              "      <th>1</th>\n",
              "      <td>03/09/2023</td>\n",
              "      <td>136.89</td>\n",
              "      <td>137.16</td>\n",
              "      <td>134.91</td>\n",
              "      <td>135.39</td>\n",
              "    </tr>\n",
              "    <tr>\n",
              "      <th>2</th>\n",
              "      <td>03/08/2023</td>\n",
              "      <td>135.71</td>\n",
              "      <td>137.23</td>\n",
              "      <td>135.71</td>\n",
              "      <td>137.06</td>\n",
              "    </tr>\n",
              "    <tr>\n",
              "      <th>3</th>\n",
              "      <td>03/07/2023</td>\n",
              "      <td>137.21</td>\n",
              "      <td>137.21</td>\n",
              "      <td>135.62</td>\n",
              "      <td>136.54</td>\n",
              "    </tr>\n",
              "    <tr>\n",
              "      <th>4</th>\n",
              "      <td>03/06/2023</td>\n",
              "      <td>136.86</td>\n",
              "      <td>137.78</td>\n",
              "      <td>136.63</td>\n",
              "      <td>137.21</td>\n",
              "    </tr>\n",
              "  </tbody>\n",
              "</table>\n",
              "</div>\n",
              "      <button class=\"colab-df-convert\" onclick=\"convertToInteractive('df-7351551c-cbb8-4bab-b96e-1d6beda5f01e')\"\n",
              "              title=\"Convert this dataframe to an interactive table.\"\n",
              "              style=\"display:none;\">\n",
              "        \n",
              "  <svg xmlns=\"http://www.w3.org/2000/svg\" height=\"24px\"viewBox=\"0 0 24 24\"\n",
              "       width=\"24px\">\n",
              "    <path d=\"M0 0h24v24H0V0z\" fill=\"none\"/>\n",
              "    <path d=\"M18.56 5.44l.94 2.06.94-2.06 2.06-.94-2.06-.94-.94-2.06-.94 2.06-2.06.94zm-11 1L8.5 8.5l.94-2.06 2.06-.94-2.06-.94L8.5 2.5l-.94 2.06-2.06.94zm10 10l.94 2.06.94-2.06 2.06-.94-2.06-.94-.94-2.06-.94 2.06-2.06.94z\"/><path d=\"M17.41 7.96l-1.37-1.37c-.4-.4-.92-.59-1.43-.59-.52 0-1.04.2-1.43.59L10.3 9.45l-7.72 7.72c-.78.78-.78 2.05 0 2.83L4 21.41c.39.39.9.59 1.41.59.51 0 1.02-.2 1.41-.59l7.78-7.78 2.81-2.81c.8-.78.8-2.07 0-2.86zM5.41 20L4 18.59l7.72-7.72 1.47 1.35L5.41 20z\"/>\n",
              "  </svg>\n",
              "      </button>\n",
              "      \n",
              "  <style>\n",
              "    .colab-df-container {\n",
              "      display:flex;\n",
              "      flex-wrap:wrap;\n",
              "      gap: 12px;\n",
              "    }\n",
              "\n",
              "    .colab-df-convert {\n",
              "      background-color: #E8F0FE;\n",
              "      border: none;\n",
              "      border-radius: 50%;\n",
              "      cursor: pointer;\n",
              "      display: none;\n",
              "      fill: #1967D2;\n",
              "      height: 32px;\n",
              "      padding: 0 0 0 0;\n",
              "      width: 32px;\n",
              "    }\n",
              "\n",
              "    .colab-df-convert:hover {\n",
              "      background-color: #E2EBFA;\n",
              "      box-shadow: 0px 1px 2px rgba(60, 64, 67, 0.3), 0px 1px 3px 1px rgba(60, 64, 67, 0.15);\n",
              "      fill: #174EA6;\n",
              "    }\n",
              "\n",
              "    [theme=dark] .colab-df-convert {\n",
              "      background-color: #3B4455;\n",
              "      fill: #D2E3FC;\n",
              "    }\n",
              "\n",
              "    [theme=dark] .colab-df-convert:hover {\n",
              "      background-color: #434B5C;\n",
              "      box-shadow: 0px 1px 3px 1px rgba(0, 0, 0, 0.15);\n",
              "      filter: drop-shadow(0px 1px 2px rgba(0, 0, 0, 0.3));\n",
              "      fill: #FFFFFF;\n",
              "    }\n",
              "  </style>\n",
              "\n",
              "      <script>\n",
              "        const buttonEl =\n",
              "          document.querySelector('#df-7351551c-cbb8-4bab-b96e-1d6beda5f01e button.colab-df-convert');\n",
              "        buttonEl.style.display =\n",
              "          google.colab.kernel.accessAllowed ? 'block' : 'none';\n",
              "\n",
              "        async function convertToInteractive(key) {\n",
              "          const element = document.querySelector('#df-7351551c-cbb8-4bab-b96e-1d6beda5f01e');\n",
              "          const dataTable =\n",
              "            await google.colab.kernel.invokeFunction('convertToInteractive',\n",
              "                                                     [key], {});\n",
              "          if (!dataTable) return;\n",
              "\n",
              "          const docLinkHtml = 'Like what you see? Visit the ' +\n",
              "            '<a target=\"_blank\" href=https://colab.research.google.com/notebooks/data_table.ipynb>data table notebook</a>'\n",
              "            + ' to learn more about interactive tables.';\n",
              "          element.innerHTML = '';\n",
              "          dataTable['output_type'] = 'display_data';\n",
              "          await google.colab.output.renderOutput(dataTable, element);\n",
              "          const docLink = document.createElement('div');\n",
              "          docLink.innerHTML = docLinkHtml;\n",
              "          element.appendChild(docLink);\n",
              "        }\n",
              "      </script>\n",
              "    </div>\n",
              "  </div>\n",
              "  "
            ]
          },
          "metadata": {},
          "execution_count": 3
        }
      ]
    },
    {
      "cell_type": "code",
      "source": [
        "df.columns = dataset_cols"
      ],
      "metadata": {
        "id": "_qpoh1i_ZRle"
      },
      "execution_count": null,
      "outputs": []
    },
    {
      "cell_type": "code",
      "source": [
        "for label in dataset_cols[1:]:\n",
        "  plt.scatter(df[\"Date\"],df[label])\n",
        "  plt.title(label)\n",
        "  plt.ylabel(label);\n",
        "  plt.xlabel(\"date\")\n",
        "  plt.show()"
      ],
      "metadata": {
        "colab": {
          "base_uri": "https://localhost:8080/",
          "height": 1000
        },
        "id": "GWYC9u3UXXA8",
        "outputId": "d4d8cd87-55de-4820-989b-5e7fbac013ac"
      },
      "execution_count": null,
      "outputs": [
        {
          "output_type": "display_data",
          "data": {
            "text/plain": [
              "<Figure size 432x288 with 1 Axes>"
            ],
            "image/png": "[encoded data removed]"
          },
          "metadata": {
            "needs_background": "light"
          }
        },
        {
          "output_type": "display_data",
          "data": {
            "text/plain": [
              "<Figure size 432x288 with 1 Axes>"
            ],
            "image/png": "[encoded data removed]"
          },
          "metadata": {
            "needs_background": "light"
          }
        },
        {
          "output_type": "display_data",
          "data": {
            "text/plain": [
              "<Figure size 432x288 with 1 Axes>"
            ],
            "image/png": "[encoded data removed]"
          },
          "metadata": {
            "needs_background": "light"
          }
        },
        {
          "output_type": "display_data",
          "data": {
            "text/plain": [
              "<Figure size 432x288 with 1 Axes>"
            ],
            "image/png": "[encoded data removed]"
          },
          "metadata": {
            "needs_background": "light"
          }
        },
        {
          "output_type": "display_data",
          "data": {
            "text/plain": [
              "<Figure size 432x288 with 1 Axes>"
            ],
            "image/png": "[encoded data removed]"
          },
          "metadata": {
            "needs_background": "light"
          }
        }
      ]
    },
    {
      "cell_type": "code",
      "source": [
        "df.head()"
      ],
      "metadata": {
        "colab": {
          "base_uri": "https://localhost:8080/",
          "height": 206
        },
        "id": "BSC_DTZDawwg",
        "outputId": "7d77445b-3fee-49d9-ad8f-40f458209d4f"
      },
      "execution_count": null,
      "outputs": [
        {
          "output_type": "execute_result",
          "data": {
            "text/plain": [
              "         Date    Open    High     Low   Close     Volume\n",
              "0  03/10/2023  134.45  135.00  132.61  133.11  4,088,790\n",
              "1  03/09/2023  136.89  137.16  134.91  135.39  3,352,720\n",
              "2  03/08/2023  135.71  137.23  135.71  137.06  2,711,847\n",
              "3  03/07/2023  137.21  137.21  135.62  136.54  2,226,903\n",
              "4  03/06/2023  136.86  137.78  136.63  137.21  2,781,234"
            ],
            "text/html": [
              "\n",
              "  <div id=\"df-9798acd9-dc8a-4eb4-a81b-d36f99a8864f\">\n",
              "    <div class=\"colab-df-container\">\n",
              "      <div>\n",
              "<style scoped>\n",
              "    .dataframe tbody tr th:only-of-type {\n",
              "        vertical-align: middle;\n",
              "    }\n",
              "\n",
              "    .dataframe tbody tr th {\n",
              "        vertical-align: top;\n",
              "    }\n",
              "\n",
              "    .dataframe thead th {\n",
              "        text-align: right;\n",
              "    }\n",
              "</style>\n",
              "<table border=\"1\" class=\"dataframe\">\n",
              "  <thead>\n",
              "    <tr style=\"text-align: right;\">\n",
              "      <th></th>\n",
              "      <th>Date</th>\n",
              "      <th>Open</th>\n",
              "      <th>High</th>\n",
              "      <th>Low</th>\n",
              "      <th>Close</th>\n",
              "      <th>Volume</th>\n",
              "    </tr>\n",
              "  </thead>\n",
              "  <tbody>\n",
              "    <tr>\n",
              "      <th>0</th>\n",
              "      <td>03/10/2023</td>\n",
              "      <td>134.45</td>\n",
              "      <td>135.00</td>\n",
              "      <td>132.61</td>\n",
              "      <td>133.11</td>\n",
              "      <td>4,088,790</td>\n",
              "    </tr>\n",
              "    <tr>\n",
              "      <th>1</th>\n",
              "      <td>03/09/2023</td>\n",
              "      <td>136.89</td>\n",
              "      <td>137.16</td>\n",
              "      <td>134.91</td>\n",
              "      <td>135.39</td>\n",
              "      <td>3,352,720</td>\n",
              "    </tr>\n",
              "    <tr>\n",
              "      <th>2</th>\n",
              "      <td>03/08/2023</td>\n",
              "      <td>135.71</td>\n",
              "      <td>137.23</td>\n",
              "      <td>135.71</td>\n",
              "      <td>137.06</td>\n",
              "      <td>2,711,847</td>\n",
              "    </tr>\n",
              "    <tr>\n",
              "      <th>3</th>\n",
              "      <td>03/07/2023</td>\n",
              "      <td>137.21</td>\n",
              "      <td>137.21</td>\n",
              "      <td>135.62</td>\n",
              "      <td>136.54</td>\n",
              "      <td>2,226,903</td>\n",
              "    </tr>\n",
              "    <tr>\n",
              "      <th>4</th>\n",
              "      <td>03/06/2023</td>\n",
              "      <td>136.86</td>\n",
              "      <td>137.78</td>\n",
              "      <td>136.63</td>\n",
              "      <td>137.21</td>\n",
              "      <td>2,781,234</td>\n",
              "    </tr>\n",
              "  </tbody>\n",
              "</table>\n",
              "</div>\n",
              "      <button class=\"colab-df-convert\" onclick=\"convertToInteractive('df-9798acd9-dc8a-4eb4-a81b-d36f99a8864f')\"\n",
              "              title=\"Convert this dataframe to an interactive table.\"\n",
              "              style=\"display:none;\">\n",
              "        \n",
              "  <svg xmlns=\"http://www.w3.org/2000/svg\" height=\"24px\"viewBox=\"0 0 24 24\"\n",
              "       width=\"24px\">\n",
              "    <path d=\"M0 0h24v24H0V0z\" fill=\"none\"/>\n",
              "    <path d=\"M18.56 5.44l.94 2.06.94-2.06 2.06-.94-2.06-.94-.94-2.06-.94 2.06-2.06.94zm-11 1L8.5 8.5l.94-2.06 2.06-.94-2.06-.94L8.5 2.5l-.94 2.06-2.06.94zm10 10l.94 2.06.94-2.06 2.06-.94-2.06-.94-.94-2.06-.94 2.06-2.06.94z\"/><path d=\"M17.41 7.96l-1.37-1.37c-.4-.4-.92-.59-1.43-.59-.52 0-1.04.2-1.43.59L10.3 9.45l-7.72 7.72c-.78.78-.78 2.05 0 2.83L4 21.41c.39.39.9.59 1.41.59.51 0 1.02-.2 1.41-.59l7.78-7.78 2.81-2.81c.8-.78.8-2.07 0-2.86zM5.41 20L4 18.59l7.72-7.72 1.47 1.35L5.41 20z\"/>\n",
              "  </svg>\n",
              "      </button>\n",
              "      \n",
              "  <style>\n",
              "    .colab-df-container {\n",
              "      display:flex;\n",
              "      flex-wrap:wrap;\n",
              "      gap: 12px;\n",
              "    }\n",
              "\n",
              "    .colab-df-convert {\n",
              "      background-color: #E8F0FE;\n",
              "      border: none;\n",
              "      border-radius: 50%;\n",
              "      cursor: pointer;\n",
              "      display: none;\n",
              "      fill: #1967D2;\n",
              "      height: 32px;\n",
              "      padding: 0 0 0 0;\n",
              "      width: 32px;\n",
              "    }\n",
              "\n",
              "    .colab-df-convert:hover {\n",
              "      background-color: #E2EBFA;\n",
              "      box-shadow: 0px 1px 2px rgba(60, 64, 67, 0.3), 0px 1px 3px 1px rgba(60, 64, 67, 0.15);\n",
              "      fill: #174EA6;\n",
              "    }\n",
              "\n",
              "    [theme=dark] .colab-df-convert {\n",
              "      background-color: #3B4455;\n",
              "      fill: #D2E3FC;\n",
              "    }\n",
              "\n",
              "    [theme=dark] .colab-df-convert:hover {\n",
              "      background-color: #434B5C;\n",
              "      box-shadow: 0px 1px 3px 1px rgba(0, 0, 0, 0.15);\n",
              "      filter: drop-shadow(0px 1px 2px rgba(0, 0, 0, 0.3));\n",
              "      fill: #FFFFFF;\n",
              "    }\n",
              "  </style>\n",
              "\n",
              "      <script>\n",
              "        const buttonEl =\n",
              "          document.querySelector('#df-9798acd9-dc8a-4eb4-a81b-d36f99a8864f button.colab-df-convert');\n",
              "        buttonEl.style.display =\n",
              "          google.colab.kernel.accessAllowed ? 'block' : 'none';\n",
              "\n",
              "        async function convertToInteractive(key) {\n",
              "          const element = document.querySelector('#df-9798acd9-dc8a-4eb4-a81b-d36f99a8864f');\n",
              "          const dataTable =\n",
              "            await google.colab.kernel.invokeFunction('convertToInteractive',\n",
              "                                                     [key], {});\n",
              "          if (!dataTable) return;\n",
              "\n",
              "          const docLinkHtml = 'Like what you see? Visit the ' +\n",
              "            '<a target=\"_blank\" href=https://colab.research.google.com/notebooks/data_table.ipynb>data table notebook</a>'\n",
              "            + ' to learn more about interactive tables.';\n",
              "          element.innerHTML = '';\n",
              "          dataTable['output_type'] = 'display_data';\n",
              "          await google.colab.output.renderOutput(dataTable, element);\n",
              "          const docLink = document.createElement('div');\n",
              "          docLink.innerHTML = docLinkHtml;\n",
              "          element.appendChild(docLink);\n",
              "        }\n",
              "      </script>\n",
              "    </div>\n",
              "  </div>\n",
              "  "
            ]
          },
          "metadata": {},
          "execution_count": 5
        }
      ]
    },
    {
      "cell_type": "code",
      "source": [
        "train, val, test = np.split(df.sample(frac=1), [int(0.6*len(df)), int(0.8*len(df))])"
      ],
      "metadata": {
        "id": "km_bIzJNd_eT"
      },
      "execution_count": null,
      "outputs": []
    },
    {
      "cell_type": "code",
      "source": [
        "def get_xy(dataframe, y_label, x_labels=None):\n",
        "  dataframe = copy.deepcopy(dataframe)\n",
        "  if not x_labels:\n",
        "    X = dataframe[[c for c in dataframe.columns if c!=y_label]].values\n",
        "  else:\n",
        "    if len(x_labels) == 1:\n",
        "      X = dataframe[x_labels[0]].values#.reshape(-1,1)\n",
        "    else:\n",
        "      X = dataframe[x_labels].values\n",
        "\n",
        "  y = dataframe[y_label].values#.reshape(-1,1)\n",
        "  data = np.hstack((X, y))\n",
        "\n",
        "  return data, X, y"
      ],
      "metadata": {
        "id": "9Re2ifuhaTe5"
      },
      "execution_count": null,
      "outputs": []
    },
    {
      "cell_type": "code",
      "source": [
        "_, X_train, Y_train = get_xy(train, \"Close\", x_labels=[\"Date\"])\n",
        "_, X_val, Y_val = get_xy(val, \"Close\", x_labels=[\"Date\"])\n",
        "_, X_test, Y_test = get_xy(test, \"Close\", x_labels=[\"Date\"])\n",
        "\n",
        "print(Y_train)"
      ],
      "metadata": {
        "colab": {
          "base_uri": "https://localhost:8080/"
        },
        "id": "ECA2e-cmaTzd",
        "outputId": "1e47a6fe-ead1-4d36-bc66-c85c6e4b9257"
      },
      "execution_count": null,
      "outputs": [
        {
          "output_type": "stream",
          "name": "stdout",
          "text": [
            "[133.68 125.9  137.56 126.07 138.67 138.99 127.68 126.05 124.87 135.3\n",
            " 131.95 128.45 130.32 129.17 139.25 138.79 130.93 132.77 127.25 127.5\n",
            " 124.37 131.89 130.95 133.09 141.75 128.62 119.24 125.57 142.71 138.23\n",
            " 131.87 126.68 130.91 126.01 121.94 122.5  135.61 127.25 123.15 137.15\n",
            " 128.55 126.35 126.89 125.76 127.61 126.89 127.73 126.58 129.26 138.72\n",
            " 137.64 124.64 122.65 123.62 126.38 129.7  129.68 127.56 140.08 121.89\n",
            " 123.89 128.15 134.57 138.23 130.16 126.98 123.01 142.96 132.45 138.76\n",
            " 121.73 136.45 123.88 129.42 124.21 134.47 118.67 125.97 134.28 124.34\n",
            " 133.49 126.04 132.87 122.02 127.96 140.49 124.97 137.32 138.04 134.69\n",
            " 127.37 140.37 134.65 128.79 125.34 124.35 123.58 128.67 126.27 138.57\n",
            " 124.08 135.12 128.7  123.28 136.49 133.78 128.03 140.39 137.21 131.45\n",
            " 120.8  138.31 126.47 131.52 123.1  127.63 138.54 133.21 138.15 126.76\n",
            " 124.2  128.93 136.4  132.32 124.72 125.61 127.22 124.43 136.86 133.77\n",
            " 132.7  135.57 124.54 130.15 138.62 124.56 136.75 124.98 132.6  136.54\n",
            " 129.59 127.67 131.6  127.73 131.68 132.13 127.71 121.85 130.89 135.87\n",
            " 137.06]\n"
          ]
        }
      ]
    },
    {
      "cell_type": "code",
      "source": [
        "#Y_train_final = np.string.replace(Y_train, ',', '.')\n",
        "X_train = X_train.astype(str)\n",
        "X_train = np.char.replace(X_train, '/', '')\n",
        "X_train = X_train.astype(int)\n",
        "print(X_train)"
      ],
      "metadata": {
        "colab": {
          "base_uri": "https://localhost:8080/"
        },
        "id": "AYo8GrNG5-zA",
        "outputId": "288287a0-dd96-4586-e609-2cbaae75c2b5"
      },
      "execution_count": null,
      "outputs": [
        {
          "output_type": "stream",
          "name": "stdout",
          "text": [
            "[12052022  8102022  4112022 11012022  2152023  2132023  9092022 10312022\n",
            "  7052022  1172023  6032022  8152022  5052022  1042023  2092023  2172023\n",
            "  6092022  1112023  5202022 12202022  9302022 12072022  5272022  6072022\n",
            "  3172022  5242022  7142022 10282022  3212022  4042022  6082022  6132022\n",
            " 12092022  6142022 10142022  9062022  1262023  9202022  8302022  4062022\n",
            "  5252022  7132022  8112022  8252022  9192022  5162022  5092022  6152022\n",
            "  8162022  4192022  3312022  6302022  7272022  7222022  6212022  5022022\n",
            "  4272022  7082022  3152022  9012022  9262022 10052022  1182023  2212023\n",
            " 12132022  9142022  9272022  3222022  6012022  2102023 10202022  4122022\n",
            " 10252022 12142022  8092022  1192023 10122022  6202022  1132023  6242022\n",
            "  1252023  6292022  6022022 10132022 12162022  3242022  8262022  4012022\n",
            "  2272023 11232022  7112022  3292022  1272023  1052023  6282022 10262022\n",
            " 10172022 12212022  8032022  4212022  7212022  1242023 10042022  7192022\n",
            "  2012023 11302022  8122022  3232022  3062023  4282022  7182022  3102022\n",
            "  8052022 11162022  7252022  8222022  2162023 11282022  3112022 12192022\n",
            " 10182022  9122022  4132022 11172022  9282022  9212022  5172022  9292022\n",
            "  4142022 11292022 11182022  4072022 10242022  4262022  2072023 10062022\n",
            "  3032023  9222022  5042022  3072023  5062022  7122022  4252022 12222022\n",
            " 11112022 12122022 12282022  7262022 11102022  2232023  3082023]\n"
          ]
        }
      ]
    },
    {
      "cell_type": "code",
      "source": [
        "#price_reg = LinearRegression()\n",
        "#price_reg.fit(X_train, Y_train)\n",
        "\n",
        "price_poly_reg = np.poly1d(np.polyfit(X_train, Y_train, 30))\n",
        "\n",
        "myline = np.linspace(1, 22, 100)\n",
        "\n",
        "plt.scatter(X_train, Y_train)\n",
        "plt.plot(myline, price_poly_reg(myline))\n",
        "plt.show()"
      ],
      "metadata": {
        "colab": {
          "base_uri": "https://localhost:8080/",
          "height": 333
        },
        "id": "MBsQn21mxEcK",
        "outputId": "cd34dff3-3ff8-499a-fee5-eaa9da1ff1cc"
      },
      "execution_count": null,
      "outputs": [
        {
          "output_type": "stream",
          "name": "stderr",
          "text": [
            "/usr/local/lib/python3.9/dist-packages/IPython/core/interactiveshell.py:3326: RankWarning: Polyfit may be poorly conditioned\n",
            "  exec(code_obj, self.user_global_ns, self.user_ns)\n"
          ]
        },
        {
          "output_type": "display_data",
          "data": {
            "text/plain": [
              "<Figure size 432x288 with 1 Axes>"
            ],
            "image/png": "[encoded data removed]"
          },
          "metadata": {
            "needs_background": "light"
          }
        }
      ]
    },
    {
      "cell_type": "code",
      "source": [
        "#price_reg.score(X_train, Y_train)\n",
        "\n",
        "print(r2_score(Y_train, price_poly_reg(X_train)))\n",
        "\n"
      ],
      "metadata": {
        "colab": {
          "base_uri": "https://localhost:8080/"
        },
        "id": "AqorqJzwyxHr",
        "outputId": "f67d62b0-cc12-4ebe-d6ec-368c111ae1c1"
      },
      "execution_count": null,
      "outputs": [
        {
          "output_type": "stream",
          "name": "stdout",
          "text": [
            "0.8843182202202927\n"
          ]
        }
      ]
    },
    {
      "cell_type": "code",
      "source": [
        "tmrw = price_poly_reg(5555555)\n",
        "\n",
        "print(tmrw)"
      ],
      "metadata": {
        "colab": {
          "base_uri": "https://localhost:8080/"
        },
        "id": "-dr53ZNB3eRX",
        "outputId": "7deab41b-50a7-4329-d017-e4b3b240d1f3"
      },
      "execution_count": null,
      "outputs": [
        {
          "output_type": "stream",
          "name": "stdout",
          "text": [
            "131.19341112552684\n"
          ]
        }
      ]
    }
  ]
}